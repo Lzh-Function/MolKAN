{
 "cells": [
  {
   "cell_type": "code",
   "execution_count": 15,
   "metadata": {},
   "outputs": [],
   "source": [
    "import numpy as np\n",
    "import pandas as pd\n",
    "import os\n",
    "import matplotlib.pyplot as plt"
   ]
  },
  {
   "cell_type": "code",
   "execution_count": 11,
   "metadata": {},
   "outputs": [
    {
     "data": {
      "text/html": [
       "<div>\n",
       "<style scoped>\n",
       "    .dataframe tbody tr th:only-of-type {\n",
       "        vertical-align: middle;\n",
       "    }\n",
       "\n",
       "    .dataframe tbody tr th {\n",
       "        vertical-align: top;\n",
       "    }\n",
       "\n",
       "    .dataframe thead th {\n",
       "        text-align: right;\n",
       "    }\n",
       "</style>\n",
       "<table border=\"1\" class=\"dataframe\">\n",
       "  <thead>\n",
       "    <tr style=\"text-align: right;\">\n",
       "      <th></th>\n",
       "      <th>rand_smi</th>\n",
       "      <th>cano_smi</th>\n",
       "      <th>Class</th>\n",
       "      <th>pIC50</th>\n",
       "    </tr>\n",
       "  </thead>\n",
       "  <tbody>\n",
       "    <tr>\n",
       "      <th>0</th>\n",
       "      <td>CC1(C)OCC[C@H](C1)NC(=O)[C@@H](Cc1c(N)nc2c(cc(...</td>\n",
       "      <td>Cc1ccccc1-c1ccc2nc(N)c(C[C@@H](C)C(=O)N[C@@H]3...</td>\n",
       "      <td>1</td>\n",
       "      <td>9.154901</td>\n",
       "    </tr>\n",
       "    <tr>\n",
       "      <th>1</th>\n",
       "      <td>c1ccccc1CC[C@@H](C(N[C@H]([C@@H]([C@H]1C[C@@H]...</td>\n",
       "      <td>CCCO[C@H]1C[NH2+][C@@H]([C@@H](O)[C@H](Cc2cc(F...</td>\n",
       "      <td>1</td>\n",
       "      <td>8.853872</td>\n",
       "    </tr>\n",
       "    <tr>\n",
       "      <th>2</th>\n",
       "      <td>C(c1cn2CCS(N(C)c3cc(cc1c32)C(N[C@@H](Cc1ccccc1...</td>\n",
       "      <td>CCc1cn2c3c(cc(C(=O)N[C@@H](Cc4ccccc4)[C@H](O)C...</td>\n",
       "      <td>1</td>\n",
       "      <td>8.698970</td>\n",
       "    </tr>\n",
       "    <tr>\n",
       "      <th>3</th>\n",
       "      <td>C(c1cc(ccc1)C(C)(C)C)[NH2+][C@@H]1[C@@H](O)[C@...</td>\n",
       "      <td>CCOC[C@@H](Oc1cc(C[C@@H]2CS(=O)(=O)C[C@H]([NH2...</td>\n",
       "      <td>1</td>\n",
       "      <td>8.698970</td>\n",
       "    </tr>\n",
       "    <tr>\n",
       "      <th>4</th>\n",
       "      <td>c1(C[C@H](NC(c2cc3c(CC)cn4c3c(N(S(=O)(=O)CC4)C...</td>\n",
       "      <td>CCc1cn2c3c(cc(C(=O)N[C@@H](Cc4ccccc4)[C@H](O)C...</td>\n",
       "      <td>1</td>\n",
       "      <td>8.698970</td>\n",
       "    </tr>\n",
       "    <tr>\n",
       "      <th>...</th>\n",
       "      <td>...</td>\n",
       "      <td>...</td>\n",
       "      <td>...</td>\n",
       "      <td>...</td>\n",
       "    </tr>\n",
       "    <tr>\n",
       "      <th>1508</th>\n",
       "      <td>c12nc(N)n(c2ccc(c1)Cl)C(CC(=O)NCC1CCOCC1)CC</td>\n",
       "      <td>CCC(CC(=O)NCC1CCOCC1)n1c(N)nc2cc(Cl)ccc21</td>\n",
       "      <td>0</td>\n",
       "      <td>3.000000</td>\n",
       "    </tr>\n",
       "    <tr>\n",
       "      <th>1509</th>\n",
       "      <td>C(=O)(NCc1ncccc1)CC(n1c2c(cc(cc2)Cl)nc1N)CC</td>\n",
       "      <td>CCC(CC(=O)NCc1ccccn1)n1c(N)nc2cc(Cl)ccc21</td>\n",
       "      <td>0</td>\n",
       "      <td>3.000000</td>\n",
       "    </tr>\n",
       "    <tr>\n",
       "      <th>1510</th>\n",
       "      <td>C1(CC1c1cc(ccc1)Br)c1nc(n(c(=O)c1)C)N</td>\n",
       "      <td>Cn1c(N)nc(C2CC2c2cccc(Br)c2)cc1=O</td>\n",
       "      <td>0</td>\n",
       "      <td>2.953115</td>\n",
       "    </tr>\n",
       "    <tr>\n",
       "      <th>1511</th>\n",
       "      <td>c1c(cccc1)-c1cccc(c1)C1CC1c1cc(=O)n(C)c(n1)N</td>\n",
       "      <td>Cn1c(N)nc(C2CC2c2cccc(-c3ccccc3)c2)cc1=O</td>\n",
       "      <td>0</td>\n",
       "      <td>2.733298</td>\n",
       "    </tr>\n",
       "    <tr>\n",
       "      <th>1512</th>\n",
       "      <td>n1c(n(c2ccc(Cl)cc21)CCCC(NCC1CC1)=O)N</td>\n",
       "      <td>Nc1nc2cc(Cl)ccc2n1CCCC(=O)NCC1CC1</td>\n",
       "      <td>0</td>\n",
       "      <td>2.544546</td>\n",
       "    </tr>\n",
       "  </tbody>\n",
       "</table>\n",
       "<p>1513 rows × 4 columns</p>\n",
       "</div>"
      ],
      "text/plain": [
       "                                               rand_smi  \\\n",
       "0     CC1(C)OCC[C@H](C1)NC(=O)[C@@H](Cc1c(N)nc2c(cc(...   \n",
       "1     c1ccccc1CC[C@@H](C(N[C@H]([C@@H]([C@H]1C[C@@H]...   \n",
       "2     C(c1cn2CCS(N(C)c3cc(cc1c32)C(N[C@@H](Cc1ccccc1...   \n",
       "3     C(c1cc(ccc1)C(C)(C)C)[NH2+][C@@H]1[C@@H](O)[C@...   \n",
       "4     c1(C[C@H](NC(c2cc3c(CC)cn4c3c(N(S(=O)(=O)CC4)C...   \n",
       "...                                                 ...   \n",
       "1508        c12nc(N)n(c2ccc(c1)Cl)C(CC(=O)NCC1CCOCC1)CC   \n",
       "1509        C(=O)(NCc1ncccc1)CC(n1c2c(cc(cc2)Cl)nc1N)CC   \n",
       "1510              C1(CC1c1cc(ccc1)Br)c1nc(n(c(=O)c1)C)N   \n",
       "1511       c1c(cccc1)-c1cccc(c1)C1CC1c1cc(=O)n(C)c(n1)N   \n",
       "1512              n1c(n(c2ccc(Cl)cc21)CCCC(NCC1CC1)=O)N   \n",
       "\n",
       "                                               cano_smi  Class     pIC50  \n",
       "0     Cc1ccccc1-c1ccc2nc(N)c(C[C@@H](C)C(=O)N[C@@H]3...      1  9.154901  \n",
       "1     CCCO[C@H]1C[NH2+][C@@H]([C@@H](O)[C@H](Cc2cc(F...      1  8.853872  \n",
       "2     CCc1cn2c3c(cc(C(=O)N[C@@H](Cc4ccccc4)[C@H](O)C...      1  8.698970  \n",
       "3     CCOC[C@@H](Oc1cc(C[C@@H]2CS(=O)(=O)C[C@H]([NH2...      1  8.698970  \n",
       "4     CCc1cn2c3c(cc(C(=O)N[C@@H](Cc4ccccc4)[C@H](O)C...      1  8.698970  \n",
       "...                                                 ...    ...       ...  \n",
       "1508          CCC(CC(=O)NCC1CCOCC1)n1c(N)nc2cc(Cl)ccc21      0  3.000000  \n",
       "1509          CCC(CC(=O)NCc1ccccn1)n1c(N)nc2cc(Cl)ccc21      0  3.000000  \n",
       "1510                  Cn1c(N)nc(C2CC2c2cccc(Br)c2)cc1=O      0  2.953115  \n",
       "1511           Cn1c(N)nc(C2CC2c2cccc(-c3ccccc3)c2)cc1=O      0  2.733298  \n",
       "1512                  Nc1nc2cc(Cl)ccc2n1CCCC(=O)NCC1CC1      0  2.544546  \n",
       "\n",
       "[1513 rows x 4 columns]"
      ]
     },
     "metadata": {},
     "output_type": "display_data"
    },
    {
     "name": "stdout",
     "output_type": "stream",
     "text": [
      "(1513, 2)\n",
      "[[1.        9.1549015]\n",
      " [1.        8.8538723]\n",
      " [1.        8.6989698]\n",
      " ...\n",
      " [0.        2.9531147]\n",
      " [0.        2.7332981]\n",
      " [0.        2.5445461]]\n"
     ]
    }
   ],
   "source": [
    "y = pd.read_csv(\"../../data/tox_csv/bace.csv\", index_col=0)\n",
    "display(y)\n",
    "y = np.array(y[[\"Class\", \"pIC50\"]])\n",
    "print(y.shape)\n",
    "print(y)"
   ]
  },
  {
   "cell_type": "code",
   "execution_count": 14,
   "metadata": {},
   "outputs": [],
   "source": [
    "TfVAE = os.listdir(\"/workspace/ToxPred/MolKAN/molkan/data/latent\")"
   ]
  },
  {
   "cell_type": "code",
   "execution_count": 44,
   "metadata": {},
   "outputs": [
    {
     "name": "stdout",
     "output_type": "stream",
     "text": [
      "(12083, 512)\n",
      "(500, 512)\n",
      "0.00261054\n",
      "0.53441006\n"
     ]
    },
    {
     "data": {
      "image/png": "[encoded data removed]",
      "text/plain": [
       "<Figure size 640x480 with 1 Axes>"
      ]
     },
     "metadata": {},
     "output_type": "display_data"
    }
   ],
   "source": [
    "np.random.seed(42)\n",
    "for enc in TfVAE:\n",
    "    e = np.load(os.path.join(\"/workspace/ToxPred/MolKAN/molkan/data/latent\", enc))\n",
    "    print(e.shape)\n",
    "    print(e[:500,:].shape)\n",
    "    print(np.mean(e))\n",
    "    print(np.mean(np.std(e, axis=1)))\n",
    "    np.random.shuffle(e)\n",
    "    counts, bin_edges = np.histogram(e[:500].flatten(), bins=20)\n",
    "    plt.hist(e[:500,:].flatten(), bins=20)\n",
    "    plt.xticks(bin_edges, labels=np.round(bin_edges, 2), rotation=45)\n",
    "    plt.ylim(0, 100)\n",
    "    plt.show()\n",
    "    break"
   ]
  },
  {
   "cell_type": "code",
   "execution_count": null,
   "metadata": {},
   "outputs": [],
   "source": []
  }
 ],
 "metadata": {
  "kernelspec": {
   "display_name": "pip-env",
   "language": "python",
   "name": "python3"
  },
  "language_info": {
   "codemirror_mode": {
    "name": "ipython",
    "version": 3
   },
   "file_extension": ".py",
   "mimetype": "text/x-python",
   "name": "python",
   "nbconvert_exporter": "python",
   "pygments_lexer": "ipython3",
   "version": "3.12.0"
  }
 },
 "nbformat": 4,
 "nbformat_minor": 2
}
