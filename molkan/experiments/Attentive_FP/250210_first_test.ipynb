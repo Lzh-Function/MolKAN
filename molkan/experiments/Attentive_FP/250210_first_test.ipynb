{
 "cells": [
  {
   "cell_type": "markdown",
   "metadata": {},
   "source": [
    " * Author: Takuho Ri (Zehao Li)\n",
    " * Modified time: 2025-02-10 19:08:32\n",
    " * Description: AttentiveFP test notebooks"
   ]
  },
  {
   "cell_type": "code",
   "execution_count": 15,
   "metadata": {},
   "outputs": [],
   "source": [
    "import sys\n",
    "import os\n",
    "import importlib\n",
    "import numpy as np\n",
    "import pandas as pd\n",
    "import matplotlib.pyplot as plt\n",
    "\n",
    "from rdkit import Chem\n",
    "from rdkit.Chem import AllChem\n",
    "import torch\n",
    "import torch_geometric\n",
    "\n",
    "sys.path.append(os.getcwd().split(\"/experiments\")[0])\n",
    "\n",
    "from src.layers import FourierKAN_Layer, MLP_Layer\n",
    "import src.data_handler as dh\n",
    "import src.utils as utils\n",
    "import src.models.attentive_fp as AFP"
   ]
  },
  {
   "cell_type": "code",
   "execution_count": 16,
   "metadata": {},
   "outputs": [],
   "source": [
    "# ライブラリリロード用\n",
    "importlib.reload(dh)\n",
    "importlib.reload(utils)\n",
    "importlib.reload(AFP)\n",
    "from src.models.attentive_fp import AttentiveFP"
   ]
  }
 ],
 "metadata": {
  "kernelspec": {
   "display_name": "pip-env",
   "language": "python",
   "name": "python3"
  },
  "language_info": {
   "codemirror_mode": {
    "name": "ipython",
    "version": 3
   },
   "file_extension": ".py",
   "mimetype": "text/x-python",
   "name": "python",
   "nbconvert_exporter": "python",
   "pygments_lexer": "ipython3",
   "version": "3.12.0"
  }
 },
 "nbformat": 4,
 "nbformat_minor": 2
}
