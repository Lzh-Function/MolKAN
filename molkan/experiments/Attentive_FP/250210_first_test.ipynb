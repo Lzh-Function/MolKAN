{
 "cells": [
  {
   "cell_type": "markdown",
   "metadata": {},
   "source": [
    " * Author: Takuho Ri (Zehao Li)\n",
    " * Modified time: 2025-02-10 19:08:32\n",
    " * Description: AttentiveFP test notebooks"
   ]
  },
  {
   "cell_type": "code",
   "execution_count": 1,
   "metadata": {},
   "outputs": [],
   "source": [
    "import sys\n",
    "import os\n",
    "import importlib\n",
    "import numpy as np\n",
    "import pandas as pd\n",
    "import matplotlib.pyplot as plt\n",
    "\n",
    "from rdkit import Chem\n",
    "from rdkit.Chem import AllChem\n",
    "import torch\n",
    "import torch_geometric\n",
    "\n",
    "sys.path.append(os.getcwd().split(\"/experiments\")[0])\n",
    "\n",
    "from src.layers import FourierKAN_Layer, MLP_Layer\n",
    "import src.utils as utils\n",
    "import src.AttentiveFP.data_handler as dh "
   ]
  },
  {
   "cell_type": "code",
   "execution_count": 2,
   "metadata": {},
   "outputs": [
    {
     "data": {
      "text/plain": [
       "<module 'src.utils' from '/workspace/ToxPred/MolKAN/molkan/src/utils.py'>"
      ]
     },
     "execution_count": 2,
     "metadata": {},
     "output_type": "execute_result"
    }
   ],
   "source": [
    "# ライブラリリロード用\n",
    "importlib.reload(dh)\n",
    "importlib.reload(utils)"
   ]
  },
  {
   "cell_type": "code",
   "execution_count": 3,
   "metadata": {},
   "outputs": [
    {
     "name": "stdout",
     "output_type": "stream",
     "text": [
      "['Cc1ccccc1-c1ccc2nc(N)c(C[C@@H](C)C(=O)N[C@@H]3CCOC(C)(C)C3)cc2c1'\n",
      " 'CCCO[C@H]1C[NH2+][C@@H]([C@@H](O)[C@H](Cc2cc(F)cc(F)c2)NC(=O)[C@H](CCc2ccccc2)N2CC[C@@](CC(C)C)(NC(C)=O)C2=O)C1'\n",
      " 'CCc1cn2c3c(cc(C(=O)N[C@@H](Cc4ccccc4)[C@H](O)C[NH2+]Cc4cccc(OC)c4)cc13)N(C)S(=O)(=O)CC2'\n",
      " ... 'Cn1c(N)nc(C2CC2c2cccc(Br)c2)cc1=O'\n",
      " 'Cn1c(N)nc(C2CC2c2cccc(-c3ccccc3)c2)cc1=O'\n",
      " 'Nc1nc2cc(Cl)ccc2n1CCCC(=O)NCC1CC1']\n",
      "[[1]\n",
      " [1]\n",
      " [1]\n",
      " ...\n",
      " [0]\n",
      " [0]\n",
      " [0]]\n"
     ]
    }
   ],
   "source": [
    "df = pd.read_csv(\"/workspace/ToxPred/MolKAN/molkan/data/tox_csv/bace.csv\", index_col=0)\n",
    "smiles = np.array(df[\"cano_smi\"])\n",
    "y = np.array(df[[\"Class\"]])\n",
    "print(smiles)\n",
    "print(y)"
   ]
  },
  {
   "cell_type": "code",
   "execution_count": 4,
   "metadata": {},
   "outputs": [
    {
     "name": "stdout",
     "output_type": "stream",
     "text": [
      "['Cc1ccccc1-c1ccc2nc(N)c(C[C@@H](C)C(=O)N[C@@H]3CCOC(C)(C)C3)cc2c1'\n",
      " 'CCCO[C@H]1C[NH2+][C@@H]([C@@H](O)[C@H](Cc2cc(F)cc(F)c2)NC(=O)[C@H](CCc2ccccc2)N2CC[C@@](CC(C)C)(NC(C)=O)C2=O)C1']\n",
      "<class 'numpy.ndarray'>\n"
     ]
    }
   ],
   "source": [
    "print(np.array(smiles[[0, 1]]))\n",
    "print(type(np.array(smiles[[0, 1]])))"
   ]
  },
  {
   "cell_type": "code",
   "execution_count": 5,
   "metadata": {},
   "outputs": [],
   "source": [
    "datasets = dh.AttentiveFPDatasets(smiles, y)"
   ]
  },
  {
   "cell_type": "code",
   "execution_count": 6,
   "metadata": {},
   "outputs": [
    {
     "data": {
      "text/plain": [
       "array([[1],\n",
       "       [1],\n",
       "       [1],\n",
       "       ...,\n",
       "       [0],\n",
       "       [0],\n",
       "       [0]])"
      ]
     },
     "execution_count": 6,
     "metadata": {},
     "output_type": "execute_result"
    }
   ],
   "source": [
    "datasets.labels"
   ]
  },
  {
   "cell_type": "code",
   "execution_count": 7,
   "metadata": {},
   "outputs": [],
   "source": [
    "import torch.utils\n",
    "import torch.utils.data\n",
    "\n",
    "\n",
    "test = torch.utils.data.Subset(datasets, [0, 1, 2])"
   ]
  },
  {
   "cell_type": "code",
   "execution_count": 13,
   "metadata": {},
   "outputs": [
    {
     "ename": "AttributeError",
     "evalue": "'Subset' object has no attribute 'use_chirarity'",
     "output_type": "error",
     "traceback": [
      "\u001b[0;31m---------------------------------------------------------------------------\u001b[0m",
      "\u001b[0;31mAttributeError\u001b[0m                            Traceback (most recent call last)",
      "Cell \u001b[0;32mIn[13], line 1\u001b[0m\n\u001b[0;32m----> 1\u001b[0m \u001b[43mtest\u001b[49m\u001b[38;5;241;43m.\u001b[39;49m\u001b[43muse_chirarity\u001b[49m\n",
      "\u001b[0;31mAttributeError\u001b[0m: 'Subset' object has no attribute 'use_chirarity'"
     ]
    }
   ],
   "source": [
    "test.use_chirarity"
   ]
  },
  {
   "cell_type": "code",
   "execution_count": 16,
   "metadata": {},
   "outputs": [],
   "source": [
    "a = torch.tensor([1])"
   ]
  },
  {
   "cell_type": "code",
   "execution_count": 17,
   "metadata": {},
   "outputs": [
    {
     "name": "stdout",
     "output_type": "stream",
     "text": [
      "tensor([1])\n"
     ]
    }
   ],
   "source": [
    "print(a)"
   ]
  },
  {
   "cell_type": "code",
   "execution_count": 27,
   "metadata": {},
   "outputs": [],
   "source": [
    "utils.fix_seed(42)"
   ]
  },
  {
   "cell_type": "code",
   "execution_count": 5,
   "metadata": {},
   "outputs": [
    {
     "name": "stdout",
     "output_type": "stream",
     "text": [
      "tensor([[0.8572, 0.1165, 0.8596, 0.2636, 0.6855],\n",
      "        [0.2695, 0.3588, 0.1994, 0.5472, 0.0062],\n",
      "        [0.9477, 0.7935, 0.8777, 0.4331, 0.2249],\n",
      "        [0.9559, 0.7885, 0.2089, 0.4351, 0.1314],\n",
      "        [0.2814, 0.7886, 0.5895, 0.7539, 0.1952],\n",
      "        [0.7498, 0.2409, 0.1626, 0.3403, 0.6049],\n",
      "        [0.6009, 0.2566, 0.7936, 0.9408, 0.1332],\n",
      "        [0.5811, 0.4129, 0.0369, 0.3179, 0.6273]])\n",
      "tensor([0.3636, 0.7296, 0.2502, 0.9170, 0.4078, 0.1045, 0.2584, 0.6360])\n",
      "torch.Size([8, 5])\n",
      "torch.Size([8])\n"
     ]
    }
   ],
   "source": [
    "utils.fix_seed(42)\n",
    "from torch.utils.data import Dataset, DataLoader\n",
    "\n",
    "a = torch.rand([100, 5])\n",
    "b = torch.rand([100])\n",
    "\n",
    "class simpledataset(Dataset):\n",
    "    def __init__(self, a, b):\n",
    "        super().__init__()\n",
    "        self.a = a\n",
    "        self.b = b\n",
    "    def __len__(self):\n",
    "        return len(a)\n",
    "    def __getitem__(self, index):\n",
    "        return self.a[index], self.b[index]\n",
    "\n",
    "d = simpledataset(a, b)\n",
    "l = DataLoader(d, batch_size=8, shuffle=True, num_workers=8, pin_memory=True)\n",
    "\n",
    "c = 0\n",
    "\n",
    "for a2, b2 in l:\n",
    "    print(a2)\n",
    "    print(b2)\n",
    "    print(a2.shape)\n",
    "    print(b2.shape)\n",
    "    break"
   ]
  },
  {
   "cell_type": "code",
   "execution_count": null,
   "metadata": {},
   "outputs": [],
   "source": []
  }
 ],
 "metadata": {
  "kernelspec": {
   "display_name": "pip-env",
   "language": "python",
   "name": "python3"
  },
  "language_info": {
   "codemirror_mode": {
    "name": "ipython",
    "version": 3
   },
   "file_extension": ".py",
   "mimetype": "text/x-python",
   "name": "python",
   "nbconvert_exporter": "python",
   "pygments_lexer": "ipython3",
   "version": "3.12.0"
  }
 },
 "nbformat": 4,
 "nbformat_minor": 2
}
