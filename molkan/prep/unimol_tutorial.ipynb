{
 "cells": [
  {
   "cell_type": "code",
   "execution_count": 2,
   "metadata": {},
   "outputs": [],
   "source": [
    "import numpy as np\n",
    "import pandas as pd\n",
    "from rdkit import Chem\n",
    "from rdkit.Chem import AllChem\n",
    "import openbabel\n",
    "import matplotlib.pyplot as plt\n",
    "import unimol_tools"
   ]
  },
  {
   "cell_type": "code",
   "execution_count": null,
   "metadata": {},
   "outputs": [
    {
     "name": "stderr",
     "output_type": "stream",
     "text": [
      "2025-01-21 14:51:05 | unimol_tools/models/unimol.py | 120 | INFO | Uni-Mol Tools | Loading pretrained weights from /opt/pip-env/lib/python3.12/site-packages/unimol_tools/weights/mol_pre_all_h_220816.pt\n",
      "2025-01-21 14:51:05 | unimol_tools/data/conformer.py | 126 | INFO | Uni-Mol Tools | Start generating conformers...\n",
      "1it [00:00, 14.70it/s]\n",
      "2025-01-21 14:51:05 | unimol_tools/data/conformer.py | 135 | INFO | Uni-Mol Tools | Succeeded in generating conformers for 100.00% of molecules.\n",
      "2025-01-21 14:51:05 | unimol_tools/data/conformer.py | 142 | INFO | Uni-Mol Tools | Succeeded in generating 3d conformers for 100.00% of molecules.\n",
      "100%|██████████| 1/1 [00:00<00:00,  7.29it/s]"
     ]
    },
    {
     "name": "stdout",
     "output_type": "stream",
     "text": [
      "(1, 512)\n",
      "(1, 32, 512)\n"
     ]
    },
    {
     "name": "stderr",
     "output_type": "stream",
     "text": [
      "\n"
     ]
    }
   ],
   "source": [
    "clf = unimol_tools.UniMolRepr(\"molecule\", remove_hs=False)\n",
    "smiles = 'c1ccc(cc1)C2=NCC(=O)Nc3c2cc(cc3)[N+](=O)[O]'\n",
    "smiles_list = [smiles]\n",
    "unimol_repr = clf.get_repr(smiles_list, return_atomic_reprs=True)\n",
    "print(np.array(unimol_repr[\"cls_repr\"]).shape)\n",
    "print(np.array(unimol_repr[\"atomic_reprs\"]).shape)"
   ]
  },
  {
   "cell_type": "code",
   "execution_count": 37,
   "metadata": {},
   "outputs": [
    {
     "ename": "NameError",
     "evalue": "name 'np' is not defined",
     "output_type": "error",
     "traceback": [
      "\u001b[0;31m---------------------------------------------------------------------------\u001b[0m",
      "\u001b[0;31mNameError\u001b[0m                                 Traceback (most recent call last)",
      "Cell \u001b[0;32mIn[37], line 1\u001b[0m\n\u001b[0;32m----> 1\u001b[0m \u001b[38;5;28mprint\u001b[39m(\u001b[43mnp\u001b[49m\u001b[38;5;241m.\u001b[39marray(unimol_repr[\u001b[38;5;124m\"\u001b[39m\u001b[38;5;124matomic_reprs\u001b[39m\u001b[38;5;124m\"\u001b[39m]))\n",
      "\u001b[0;31mNameError\u001b[0m: name 'np' is not defined"
     ]
    }
   ],
   "source": [
    "print(np.array(unimol_repr[\"atomic_reprs\"]))"
   ]
  },
  {
   "cell_type": "code",
   "execution_count": null,
   "metadata": {},
   "outputs": [],
   "source": []
  }
 ],
 "metadata": {
  "kernelspec": {
   "display_name": "pip-env",
   "language": "python",
   "name": "python3"
  },
  "language_info": {
   "codemirror_mode": {
    "name": "ipython",
    "version": 3
   },
   "file_extension": ".py",
   "mimetype": "text/x-python",
   "name": "python",
   "nbconvert_exporter": "python",
   "pygments_lexer": "ipython3",
   "version": "3.12.0"
  }
 },
 "nbformat": 4,
 "nbformat_minor": 2
}
